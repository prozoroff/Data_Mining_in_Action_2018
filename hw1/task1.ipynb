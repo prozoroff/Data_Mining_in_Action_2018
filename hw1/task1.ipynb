{
 "cells": [
  {
   "cell_type": "markdown",
   "metadata": {},
   "source": [
    "### Входные данные\n",
    "\n",
    "У вас имеется поток данных (генератор data_stream). Поля это случайные величины - так сделано для упрощения генерации данных. Есть три поля (названы по уровню сложности задания)\n",
    "\n",
    "### Задание\n",
    "##### Мотивация:\n",
    "У вас есть куча временных рядов, вы хотите научиться предсказывать следующее значение по 1000 предыдущим. 1000 признаков окна это слишком много, однако вы решили заменить их 5ю: средним, дисперсией, минимумом, медианой и максимумом. Однако, все эти признаки надо подсчитать, причём хочется уметь это делать быстро (в течение часа)\n",
    "##### Для каждого поля нужно сделать следующее:\n",
    "\n",
    "1. Пробежаться по данным окном размера 1000 (окно сдвигается на 1, то есть следующее окно пересекается с предыдущим по 999 элементам).\n",
    "\n",
    "2. Для каждого окна посчитайте среднее значение поля и его дисперсию. Делайте yield этих значений, получая генератор tuple. \n",
    "\n",
    "3. Для каждого окна найдине минимум, медиану и максимум в нём. Делайте yield этих значений, получая генератор tuple. \n",
    "\n",
    "Ответом, который нужно будет засабмитить в гугл форму, является среднее значение tuple по получившемуся потоку, округлённое до 2го знака.\n",
    "\n",
    "### Замечания\n",
    "\n",
    "1. Обратите внимания как генерируются поля. Постарайтесь понять особенность каждого поля и как это можно использовать. Желательно, чтобы для каждого поля у вас было своё решение, максимально эффективно использующее знание об этом поле.\n",
    "2. Полезные библиотеки: itertools, numpy, collections + всё что найдёте в интернете и можно поставить через pip install\n",
    "3. **Медианой отсортированного массива arr считайте значение arr[len(arr) // 2]**\n",
    "\n",
    "\n",
    "\n",
    "Если измерять время работы функций временем работы функции example, то примерное время работы такое:\n",
    "Одновременно среднее, дисперсия - 1.17\n",
    "Одновременно минимум, максимум и медиана:easy - 0.87\n",
    "medium - 2.11\n",
    "nightmare - 2.85\n"
   ]
  },
  {
   "cell_type": "markdown",
   "metadata": {},
   "source": [
    "#### Генерация данных"
   ]
  },
  {
   "cell_type": "code",
   "execution_count": 51,
   "metadata": {},
   "outputs": [],
   "source": [
    "from collections import namedtuple, deque\n",
    "from itertools import tee, islice\n",
    "from blist import sortedlist\n",
    "import random\n",
    "\n",
    "Record = namedtuple('Record', 'easy medium nightmare')\n",
    "\n",
    "def data_stream():\n",
    "    random_generator = random.Random(42)\n",
    "    easy = 0\n",
    "    for _ in range(10000000): #10000000\n",
    "        easy += random_generator.randint(0, 2) \n",
    "        medium = random_generator.randint(0, 256 - 1)\n",
    "        nightmare = random_generator.randint(0, 1000000000 - 1)\n",
    "        \n",
    "        yield Record(\n",
    "            easy=easy,\n",
    "            medium=medium,\n",
    "            nightmare=nightmare\n",
    "        )\n",
    "        \n",
    "def easy_stream():\n",
    "    for record in data_stream():\n",
    "        yield record.easy\n",
    "        \n",
    "def medium_stream():\n",
    "    for record in data_stream():\n",
    "        yield record.medium\n",
    "        \n",
    "def nightmare_stream():\n",
    "    for record in data_stream():\n",
    "        yield record.nightmare"
   ]
  },
  {
   "cell_type": "markdown",
   "metadata": {},
   "source": [
    "#### Подсчёт среднего значения tuple по потоку"
   ]
  },
  {
   "cell_type": "code",
   "execution_count": 2,
   "metadata": {
    "collapsed": true
   },
   "outputs": [],
   "source": [
    "import numpy as np\n",
    "\n",
    "def get_tuple_stream_mean(stream, number_of_values):\n",
    "    result = np.zeros(number_of_values, dtype='object')\n",
    "    count = 0. \n",
    "    for streamed_tuple in stream:\n",
    "        result += streamed_tuple\n",
    "        count += 1\n",
    "    return ['{:0.2f}'.format(x) for x in result / count]"
   ]
  },
  {
   "cell_type": "code",
   "execution_count": 3,
   "metadata": {},
   "outputs": [
    {
     "name": "stdout",
     "output_type": "stream",
     "text": [
      "['127.48', '137.48']\n",
      "Wall time: 2min 1s\n"
     ]
    }
   ],
   "source": [
    "%%time\n",
    "def example(stream):\n",
    "    for value in stream:\n",
    "        yield (value, value + 10)\n",
    "print(get_tuple_stream_mean(example(medium_stream()), 2))"
   ]
  },
  {
   "cell_type": "code",
   "execution_count": 6,
   "metadata": {
    "collapsed": true
   },
   "outputs": [],
   "source": [
    "def get_stream_mean_and_variance(stream, window_size):\n",
    "    start, end = tee(stream)\n",
    "    sum_1 = 0.\n",
    "    sum_2 = 0.\n",
    "    for _ in range(window_size):\n",
    "        value = next(end)\n",
    "        sum_1 += value\n",
    "        sum_2 += value * value\n",
    "    try:\n",
    "        while True:\n",
    "            yield sum_1 / window_size, (sum_2 - sum_1 * sum_1 / window_size) / window_size\n",
    "\n",
    "            next_val = next(end)\n",
    "            prev_val = next(start)\n",
    "            \n",
    "            sum_1 += (next_val - prev_val)\n",
    "            sum_2 += (next_val * next_val - prev_val * prev_val)\n",
    "    except StopIteration:\n",
    "        pass"
   ]
  },
  {
   "cell_type": "code",
   "execution_count": 35,
   "metadata": {},
   "outputs": [
    {
     "name": "stdout",
     "output_type": "stream",
     "text": [
      "Wall time: 3min 29s\n"
     ]
    },
    {
     "data": {
      "text/plain": [
       "['4999675.28', '83438.25']"
      ]
     },
     "execution_count": 35,
     "metadata": {},
     "output_type": "execute_result"
    }
   ],
   "source": [
    "%%time\n",
    "get_tuple_stream_mean(get_stream_mean_and_variance(easy_stream(), 1000), 2)"
   ]
  },
  {
   "cell_type": "code",
   "execution_count": 5,
   "metadata": {},
   "outputs": [
    {
     "name": "stdout",
     "output_type": "stream",
     "text": [
      "Wall time: 2min 30s\n"
     ]
    },
    {
     "data": {
      "text/plain": [
       "['127.48', '5455.17']"
      ]
     },
     "execution_count": 5,
     "metadata": {},
     "output_type": "execute_result"
    }
   ],
   "source": [
    "%%time\n",
    "get_tuple_stream_mean(get_stream_mean_and_variance(medium_stream(), 1000), 2)"
   ]
  },
  {
   "cell_type": "code",
   "execution_count": 7,
   "metadata": {},
   "outputs": [
    {
     "name": "stdout",
     "output_type": "stream",
     "text": [
      "Wall time: 2min 38s\n"
     ]
    },
    {
     "data": {
      "text/plain": [
       "['499880345.88', '83228908564114592.00']"
      ]
     },
     "execution_count": 7,
     "metadata": {},
     "output_type": "execute_result"
    }
   ],
   "source": [
    "%%time\n",
    "get_tuple_stream_mean(get_stream_mean_and_variance(nightmare_stream(), 1000), 2)"
   ]
  },
  {
   "cell_type": "code",
   "execution_count": 17,
   "metadata": {
    "collapsed": true
   },
   "outputs": [],
   "source": [
    "def get_easy_stream_min_median_max(stream, window_size):\n",
    "    queue = deque()\n",
    "    for value in islice(stream, window_size):\n",
    "        queue.append(value)\n",
    "    \n",
    "    yield queue[0], queue[int(window_size / 2)], queue[-1]\n",
    "    for value in stream:\n",
    "        queue.popleft()\n",
    "        queue.append(value)\n",
    "        yield queue[0], queue[int(window_size / 2)], queue[-1]"
   ]
  },
  {
   "cell_type": "code",
   "execution_count": 18,
   "metadata": {},
   "outputs": [
    {
     "name": "stdout",
     "output_type": "stream",
     "text": [
      "Wall time: 2min 41s\n"
     ]
    },
    {
     "data": {
      "text/plain": [
       "['4999175.79', '4999675.78', '5000174.76']"
      ]
     },
     "execution_count": 18,
     "metadata": {},
     "output_type": "execute_result"
    }
   ],
   "source": [
    "%%time\n",
    "get_tuple_stream_mean(get_easy_stream_min_median_max(easy_stream(), 1000), 3)"
   ]
  },
  {
   "cell_type": "code",
   "execution_count": 43,
   "metadata": {},
   "outputs": [],
   "source": [
    "def get_easy_stream_min_median_max_iter(stream, window_size):\n",
    "    start, medium, end = tee(stream, 3)\n",
    "    for _ in range(int(window_size/2)):\n",
    "        next(medium)\n",
    "    for _ in range(int(window_size-1)):\n",
    "        next(end)\n",
    "    yield next(start), next(medium), next(end)\n",
    "    try:\n",
    "        while True:\n",
    "            yield next(start), next(medium), next(end)\n",
    "    except StopIteration:\n",
    "        pass"
   ]
  },
  {
   "cell_type": "code",
   "execution_count": 44,
   "metadata": {},
   "outputs": [
    {
     "name": "stdout",
     "output_type": "stream",
     "text": [
      "Wall time: 3min 2s\n"
     ]
    },
    {
     "data": {
      "text/plain": [
       "['4999175.79', '4999675.78', '5000174.76']"
      ]
     },
     "execution_count": 44,
     "metadata": {},
     "output_type": "execute_result"
    }
   ],
   "source": [
    "%%time\n",
    "get_tuple_stream_mean(get_easy_stream_min_median_max_iter(easy_stream(), 1000), 3)"
   ]
  },
  {
   "cell_type": "code",
   "execution_count": 60,
   "metadata": {
    "collapsed": true
   },
   "outputs": [],
   "source": [
    "def get_stream_min_median_max(stream, window_size):\n",
    "    window = sortedlist()\n",
    "    start, end = tee(stream)\n",
    "    for _ in range(window_size):\n",
    "        window.add(next(end))\n",
    "    try:\n",
    "        while True:\n",
    "            yield window[0], window[int(window_size / 2)], window[-1]\n",
    "            window.add(next(end))\n",
    "            window.remove(next(start))\n",
    "    except StopIteration:\n",
    "        pass"
   ]
  },
  {
   "cell_type": "code",
   "execution_count": 61,
   "metadata": {},
   "outputs": [
    {
     "name": "stdout",
     "output_type": "stream",
     "text": [
      "Wall time: 5min 27s\n"
     ]
    },
    {
     "data": {
      "text/plain": [
       "['0.02', '127.60', '254.98']"
      ]
     },
     "execution_count": 61,
     "metadata": {},
     "output_type": "execute_result"
    }
   ],
   "source": [
    "%%time\n",
    "get_tuple_stream_mean(get_stream_min_median_max(medium_stream(), 1000), 3)"
   ]
  },
  {
   "cell_type": "code",
   "execution_count": 62,
   "metadata": {},
   "outputs": [
    {
     "name": "stdout",
     "output_type": "stream",
     "text": [
      "Wall time: 6min 59s\n"
     ]
    },
    {
     "data": {
      "text/plain": [
       "['1017512.29', '500438415.64', '999017359.97']"
      ]
     },
     "execution_count": 62,
     "metadata": {},
     "output_type": "execute_result"
    }
   ],
   "source": [
    "%%time\n",
    "get_tuple_stream_mean(get_stream_min_median_max(nightmare_stream(), 1000), 3)"
   ]
  },
  {
   "cell_type": "code",
   "execution_count": null,
   "metadata": {
    "collapsed": true
   },
   "outputs": [],
   "source": []
  }
 ],
 "metadata": {
  "kernelspec": {
   "display_name": "Python 3",
   "language": "python",
   "name": "python3"
  },
  "language_info": {
   "codemirror_mode": {
    "name": "ipython",
    "version": 3
   },
   "file_extension": ".py",
   "mimetype": "text/x-python",
   "name": "python",
   "nbconvert_exporter": "python",
   "pygments_lexer": "ipython3",
   "version": "3.6.3"
  }
 },
 "nbformat": 4,
 "nbformat_minor": 1
}
