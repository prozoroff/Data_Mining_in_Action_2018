{
 "cells": [
  {
   "cell_type": "markdown",
   "metadata": {},
   "source": [
    "### Задача 1\n",
    "\n",
    "Что выведет этот код?\n",
    "\n",
    "Ответом на эту задачу является выведенное число, округлённое до 4го знака, дробная часть отделяется **точкой**."
   ]
  },
  {
   "cell_type": "code",
   "execution_count": 2,
   "metadata": {},
   "outputs": [
    {
     "name": "stdout",
     "output_type": "stream",
     "text": [
      "0.964847303444\n"
     ]
    }
   ],
   "source": [
    "from sklearn.datasets import load_breast_cancer\n",
    "from sklearn.ensemble import RandomForestClassifier\n",
    "from sklearn.model_selection import cross_val_score\n",
    "\n",
    "X_data, y_data = load_breast_cancer(return_X_y=True)\n",
    "\n",
    "print(cross_val_score(RandomForestClassifier(criterion='entropy', n_estimators=42, random_state=42), X_data, y_data, cv=3).mean())"
   ]
  },
  {
   "cell_type": "markdown",
   "metadata": {},
   "source": [
    "### Задача 2"
   ]
  },
  {
   "cell_type": "markdown",
   "metadata": {},
   "source": [
    "Напишите свою функцию определения качества модели по следующей метрике: максимальный precision, при условии, что $precision < 1.5 * recall$ и $recall > 0.5$ и определите наилучшее её значение, перебирая гиперпараметры по предложенной сетке"
   ]
  },
  {
   "cell_type": "markdown",
   "metadata": {},
   "source": [
    "Ответом на эту задачу является максимальное значение качества по предложенной метрике, округлённое до 4го знака, дробная часть отделяется **точкой**."
   ]
  },
  {
   "cell_type": "code",
   "execution_count": 17,
   "metadata": {},
   "outputs": [
    {
     "name": "stdout",
     "output_type": "stream",
     "text": [
      "Custom loss best params and score\n",
      "\tParams: {'criterion': 'gini', 'max_depth': None, 'n_estimators': 10}\n",
      "\tScore: 0.968819611066\n"
     ]
    }
   ],
   "source": [
    "from sklearn.model_selection import GridSearchCV\n",
    "from sklearn.metrics import make_scorer, fbeta_score, precision_score, recall_score\n",
    "from sklearn.ensemble import RandomForestClassifier\n",
    "from sklearn.datasets import load_breast_cancer\n",
    "\n",
    "\n",
    "param_grid = {\n",
    "    'n_estimators': [10, 20, 30, 40, 50],\n",
    "    'max_depth': [None, 5, 10, 15, 20],\n",
    "    'criterion': ['entropy', 'gini']\n",
    "}\n",
    "\n",
    "X_data, y_data = load_breast_cancer(return_X_y=True)\n",
    "\n",
    "estimator = RandomForestClassifier(random_state=42)\n",
    "\n",
    "#print('Accuracy best params and score')\n",
    "#result = GridSearchCV(estimator, param_grid, cv=3, scoring='accuracy').fit(X_data, y_data)\n",
    "#print('\\tParams:', result.best_params_)\n",
    "#print('\\tScore:', result.best_score_)\n",
    "\n",
    "def score_func(y, y_pred):\n",
    "    recall = recall_score(y, y_pred)\n",
    "    precision = precision_score(y, y_pred)\n",
    "    if precision < 1.5 * recall and recall > 0.5:\n",
    "        return precision\n",
    "    return 0\n",
    "\n",
    "scorer = make_scorer(score_func)\n",
    "\n",
    "print('Custom loss best params and score')\n",
    "result = GridSearchCV(estimator, param_grid, cv=3, scoring=scorer).fit(X_data, y_data)\n",
    "print('\\tParams:', result.best_params_)\n",
    "print('\\tScore:', result.best_score_)"
   ]
  },
  {
   "cell_type": "markdown",
   "metadata": {},
   "source": [
    "### Задача 3"
   ]
  },
  {
   "cell_type": "markdown",
   "metadata": {},
   "source": [
    "Какова минимальная сторона квадрата с параллельными осям сторонами, содержащего все точки из $X$? \n",
    "\n",
    "Ответом на эту задачу является число, округлённое до 2го знака, дробная часть отделяется точкой."
   ]
  },
  {
   "cell_type": "code",
   "execution_count": 43,
   "metadata": {},
   "outputs": [],
   "source": [
    "from sklearn.datasets import load_breast_cancer\n",
    "\n",
    "data = load_breast_cancer()\n",
    "X = data.data[:, :2]\n",
    "\n",
    "max_x = max([x[0] for x in X])\n",
    "max_y = max([x[1] for x in X])\n",
    "min_x = min([x[0] for x in X])\n",
    "min_y = min([x[1] for x in X])\n",
    "        \n",
    "width = max_x - min_x\n",
    "height = max_y - min_y\n"
   ]
  },
  {
   "cell_type": "code",
   "execution_count": 45,
   "metadata": {},
   "outputs": [
    {
     "data": {
      "image/png": "[encoded data removed]",
      "text/plain": [
       "<matplotlib.figure.Figure at 0x26ba68c1048>"
      ]
     },
     "metadata": {},
     "output_type": "display_data"
    }
   ],
   "source": [
    "import matplotlib.pyplot as plt\n",
    "plt.scatter([x[0] for x in X], [x[1] for x in X], color='gray')\n",
    "plt.plot([min_x, max_x, max_x, min_x, min_x ], [min_y, min_y, max_y, max_y, min_y], color='red')\n",
    "plt.show()"
   ]
  },
  {
   "cell_type": "code",
   "execution_count": 46,
   "metadata": {},
   "outputs": [
    {
     "data": {
      "text/plain": [
       "21.128999999999998"
      ]
     },
     "execution_count": 46,
     "metadata": {},
     "output_type": "execute_result"
    }
   ],
   "source": [
    "width"
   ]
  }
 ],
 "metadata": {
  "kernelspec": {
   "display_name": "Python 3",
   "language": "python",
   "name": "python3"
  },
  "language_info": {
   "codemirror_mode": {
    "name": "ipython",
    "version": 3
   },
   "file_extension": ".py",
   "mimetype": "text/x-python",
   "name": "python",
   "nbconvert_exporter": "python",
   "pygments_lexer": "ipython3",
   "version": "3.6.1"
  }
 },
 "nbformat": 4,
 "nbformat_minor": 2
}
